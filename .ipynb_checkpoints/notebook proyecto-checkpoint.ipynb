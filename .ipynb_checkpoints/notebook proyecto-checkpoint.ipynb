{
 "cells": [
  {
   "cell_type": "code",
   "execution_count": 3,
   "metadata": {},
   "outputs": [
    {
     "data": {
      "text/html": [
       "<div>\n",
       "<style scoped>\n",
       "    .dataframe tbody tr th:only-of-type {\n",
       "        vertical-align: middle;\n",
       "    }\n",
       "\n",
       "    .dataframe tbody tr th {\n",
       "        vertical-align: top;\n",
       "    }\n",
       "\n",
       "    .dataframe thead th {\n",
       "        text-align: right;\n",
       "    }\n",
       "</style>\n",
       "<table border=\"1\" class=\"dataframe\">\n",
       "  <thead>\n",
       "    <tr style=\"text-align: right;\">\n",
       "      <th></th>\n",
       "      <th>recommendation</th>\n",
       "      <th>review</th>\n",
       "    </tr>\n",
       "  </thead>\n",
       "  <tbody>\n",
       "    <tr>\n",
       "      <th>0</th>\n",
       "      <td>Recommended</td>\n",
       "      <td>&amp;gt Played as German Reich&amp;gt Declare war on B...</td>\n",
       "    </tr>\n",
       "    <tr>\n",
       "      <th>1</th>\n",
       "      <td>Recommended</td>\n",
       "      <td>yes.</td>\n",
       "    </tr>\n",
       "    <tr>\n",
       "      <th>2</th>\n",
       "      <td>Recommended</td>\n",
       "      <td>Very good game although a bit overpriced in my...</td>\n",
       "    </tr>\n",
       "    <tr>\n",
       "      <th>3</th>\n",
       "      <td>Recommended</td>\n",
       "      <td>Out of all the reviews I wrote This one is pro...</td>\n",
       "    </tr>\n",
       "    <tr>\n",
       "      <th>4</th>\n",
       "      <td>Recommended</td>\n",
       "      <td>Disclaimer I survivor main. I play games for f...</td>\n",
       "    </tr>\n",
       "  </tbody>\n",
       "</table>\n",
       "</div>"
      ],
      "text/plain": [
       "  recommendation                                             review\n",
       "0    Recommended  &gt Played as German Reich&gt Declare war on B...\n",
       "1    Recommended                                               yes.\n",
       "2    Recommended  Very good game although a bit overpriced in my...\n",
       "3    Recommended  Out of all the reviews I wrote This one is pro...\n",
       "4    Recommended  Disclaimer I survivor main. I play games for f..."
      ]
     },
     "execution_count": 3,
     "metadata": {},
     "output_type": "execute_result"
    }
   ],
   "source": [
    "import pandas as pd\n",
    "import string\n",
    "import nltk\n",
    "import numpy as np\n",
    "from nltk.tokenize import RegexpTokenizer\n",
    "from nltk.corpus import stopwords\n",
    "df = pd.read_csv('Datasets/steam-reviews-dataset/steam_reviews.csv', usecols=['recommendation', 'review'])  \n",
    "df.head()"
   ]
  },
  {
   "cell_type": "code",
   "execution_count": 4,
   "metadata": {},
   "outputs": [
    {
     "data": {
      "text/plain": [
       "recommendation    object\n",
       "review            object\n",
       "dtype: object"
      ]
     },
     "execution_count": 4,
     "metadata": {},
     "output_type": "execute_result"
    }
   ],
   "source": [
    "df.dtypes\n"
   ]
  },
  {
   "cell_type": "code",
   "execution_count": 5,
   "metadata": {},
   "outputs": [
    {
     "data": {
      "text/html": [
       "<div>\n",
       "<style scoped>\n",
       "    .dataframe tbody tr th:only-of-type {\n",
       "        vertical-align: middle;\n",
       "    }\n",
       "\n",
       "    .dataframe tbody tr th {\n",
       "        vertical-align: top;\n",
       "    }\n",
       "\n",
       "    .dataframe thead th {\n",
       "        text-align: right;\n",
       "    }\n",
       "</style>\n",
       "<table border=\"1\" class=\"dataframe\">\n",
       "  <thead>\n",
       "    <tr style=\"text-align: right;\">\n",
       "      <th></th>\n",
       "      <th>recommendation</th>\n",
       "      <th>review</th>\n",
       "    </tr>\n",
       "  </thead>\n",
       "  <tbody>\n",
       "    <tr>\n",
       "      <th>0</th>\n",
       "      <td>1</td>\n",
       "      <td>&amp;gt Played as German Reich&amp;gt Declare war on B...</td>\n",
       "    </tr>\n",
       "    <tr>\n",
       "      <th>1</th>\n",
       "      <td>1</td>\n",
       "      <td>yes.</td>\n",
       "    </tr>\n",
       "    <tr>\n",
       "      <th>2</th>\n",
       "      <td>1</td>\n",
       "      <td>Very good game although a bit overpriced in my...</td>\n",
       "    </tr>\n",
       "    <tr>\n",
       "      <th>3</th>\n",
       "      <td>1</td>\n",
       "      <td>Out of all the reviews I wrote This one is pro...</td>\n",
       "    </tr>\n",
       "    <tr>\n",
       "      <th>4</th>\n",
       "      <td>1</td>\n",
       "      <td>Disclaimer I survivor main. I play games for f...</td>\n",
       "    </tr>\n",
       "    <tr>\n",
       "      <th>...</th>\n",
       "      <td>...</td>\n",
       "      <td>...</td>\n",
       "    </tr>\n",
       "    <tr>\n",
       "      <th>434886</th>\n",
       "      <td>1</td>\n",
       "      <td>YOUR FLESH WILL ROT AND DECAY.STEEL IS IMMORTA...</td>\n",
       "    </tr>\n",
       "    <tr>\n",
       "      <th>434887</th>\n",
       "      <td>1</td>\n",
       "      <td>Domini and Dominae I believe what we are deali...</td>\n",
       "    </tr>\n",
       "    <tr>\n",
       "      <th>434888</th>\n",
       "      <td>1</td>\n",
       "      <td>First off if you like X Com style of games you...</td>\n",
       "    </tr>\n",
       "    <tr>\n",
       "      <th>434889</th>\n",
       "      <td>1</td>\n",
       "      <td>As a disclaimer I'm an AdMech player on the ta...</td>\n",
       "    </tr>\n",
       "    <tr>\n",
       "      <th>434890</th>\n",
       "      <td>1</td>\n",
       "      <td>Don't listen to people who claim it's the game...</td>\n",
       "    </tr>\n",
       "  </tbody>\n",
       "</table>\n",
       "<p>434891 rows × 2 columns</p>\n",
       "</div>"
      ],
      "text/plain": [
       "        recommendation                                             review\n",
       "0                    1  &gt Played as German Reich&gt Declare war on B...\n",
       "1                    1                                               yes.\n",
       "2                    1  Very good game although a bit overpriced in my...\n",
       "3                    1  Out of all the reviews I wrote This one is pro...\n",
       "4                    1  Disclaimer I survivor main. I play games for f...\n",
       "...                ...                                                ...\n",
       "434886               1  YOUR FLESH WILL ROT AND DECAY.STEEL IS IMMORTA...\n",
       "434887               1  Domini and Dominae I believe what we are deali...\n",
       "434888               1  First off if you like X Com style of games you...\n",
       "434889               1  As a disclaimer I'm an AdMech player on the ta...\n",
       "434890               1  Don't listen to people who claim it's the game...\n",
       "\n",
       "[434891 rows x 2 columns]"
      ]
     },
     "execution_count": 5,
     "metadata": {},
     "output_type": "execute_result"
    }
   ],
   "source": [
    "df.recommendation = df['recommendation'].astype('category')\n",
    "df.recommendation = df['recommendation'].cat.codes\n",
    "df"
   ]
  },
  {
   "cell_type": "code",
   "execution_count": 6,
   "metadata": {},
   "outputs": [],
   "source": [
    "def remove_punctuation(text):\n",
    "    no_punct = \"\".join([c for c in text if c not in string.punctuation])\n",
    "    return no_punct\n",
    "\n"
   ]
  },
  {
   "cell_type": "code",
   "execution_count": 7,
   "metadata": {},
   "outputs": [],
   "source": [
    "df['review'] = df['review'].dropna().apply(remove_punctuation)"
   ]
  },
  {
   "cell_type": "code",
   "execution_count": 8,
   "metadata": {},
   "outputs": [],
   "source": [
    "def remove_stopwords(text):\n",
    "    words = [w for w in text if w not in stopwords.words('english')]\n",
    "    return words\n"
   ]
  },
  {
   "cell_type": "code",
   "execution_count": 9,
   "metadata": {},
   "outputs": [
    {
     "data": {
      "text/html": [
       "<div>\n",
       "<style scoped>\n",
       "    .dataframe tbody tr th:only-of-type {\n",
       "        vertical-align: middle;\n",
       "    }\n",
       "\n",
       "    .dataframe tbody tr th {\n",
       "        vertical-align: top;\n",
       "    }\n",
       "\n",
       "    .dataframe thead th {\n",
       "        text-align: right;\n",
       "    }\n",
       "</style>\n",
       "<table border=\"1\" class=\"dataframe\">\n",
       "  <thead>\n",
       "    <tr style=\"text-align: right;\">\n",
       "      <th></th>\n",
       "      <th>recommendation</th>\n",
       "      <th>review</th>\n",
       "    </tr>\n",
       "  </thead>\n",
       "  <tbody>\n",
       "    <tr>\n",
       "      <th>0</th>\n",
       "      <td>1</td>\n",
       "      <td>[gt, played, as, german, reichgt, declare, war...</td>\n",
       "    </tr>\n",
       "    <tr>\n",
       "      <th>1</th>\n",
       "      <td>1</td>\n",
       "      <td>[yes]</td>\n",
       "    </tr>\n",
       "    <tr>\n",
       "      <th>2</th>\n",
       "      <td>1</td>\n",
       "      <td>[very, good, game, although, a, bit, overprice...</td>\n",
       "    </tr>\n",
       "    <tr>\n",
       "      <th>3</th>\n",
       "      <td>1</td>\n",
       "      <td>[out, of, all, the, reviews, i, wrote, this, o...</td>\n",
       "    </tr>\n",
       "    <tr>\n",
       "      <th>4</th>\n",
       "      <td>1</td>\n",
       "      <td>[disclaimer, i, survivor, main, i, play, games...</td>\n",
       "    </tr>\n",
       "  </tbody>\n",
       "</table>\n",
       "</div>"
      ],
      "text/plain": [
       "   recommendation                                             review\n",
       "0               1  [gt, played, as, german, reichgt, declare, war...\n",
       "1               1                                              [yes]\n",
       "2               1  [very, good, game, although, a, bit, overprice...\n",
       "3               1  [out, of, all, the, reviews, i, wrote, this, o...\n",
       "4               1  [disclaimer, i, survivor, main, i, play, games..."
      ]
     },
     "execution_count": 9,
     "metadata": {},
     "output_type": "execute_result"
    }
   ],
   "source": [
    "tokenizer = RegexpTokenizer(r'\\w+')\n",
    "df['review'] = df['review'].dropna().apply(lambda x: tokenizer.tokenize(x.lower()))\n",
    "#df['review'] = df['review'].dropna().apply(lambda x: remove_stopwords(x))\n",
    "df.head()"
   ]
  },
  {
   "cell_type": "code",
   "execution_count": 10,
   "metadata": {},
   "outputs": [],
   "source": [
    "\n",
    "from sklearn.feature_extraction.text import CountVectorizer\n",
    "count = CountVectorizer()\n",
    "def untokenize(list):\n",
    "    return \" \".join(list)\n"
   ]
  },
  {
   "cell_type": "code",
   "execution_count": 11,
   "metadata": {},
   "outputs": [],
   "source": [
    "df_dropna = df.dropna()\n",
    "clean_reviews_train = df_dropna['review'].loc[:303362].dropna().apply(untokenize)\n",
    "target_train = df_dropna.loc[:303362,'recommendation']\n",
    "reviews_test = df_dropna['review'].loc[303362:].dropna().apply(untokenize)\n",
    "target_test = df_dropna.loc[303362:,'recommendation']\n",
    "\n",
    "bag = count.fit_transform(clean_reviews_train)\n",
    "bag_test = count.transform(reviews_test)\n",
    "\n"
   ]
  },
  {
   "cell_type": "code",
   "execution_count": 12,
   "metadata": {},
   "outputs": [
    {
     "data": {
      "text/plain": [
       "(302340, 260709)"
      ]
     },
     "execution_count": 12,
     "metadata": {},
     "output_type": "execute_result"
    }
   ],
   "source": [
    "bag.shape"
   ]
  },
  {
   "cell_type": "code",
   "execution_count": 13,
   "metadata": {},
   "outputs": [],
   "source": [
    "from sklearn.feature_extraction.text import TfidfTransformer\n",
    "tfidf = TfidfTransformer()\n",
    "bag_tfidf = tfidf.fit_transform(bag)\n",
    "bag_test_tfidf = tfidf.fit_transform(bag_test)"
   ]
  },
  {
   "cell_type": "code",
   "execution_count": 14,
   "metadata": {},
   "outputs": [
    {
     "data": {
      "text/plain": [
       "(302340, 260709)"
      ]
     },
     "execution_count": 14,
     "metadata": {},
     "output_type": "execute_result"
    }
   ],
   "source": [
    "bag_tfidf.shape"
   ]
  },
  {
   "cell_type": "code",
   "execution_count": 15,
   "metadata": {},
   "outputs": [],
   "source": [
    "from sklearn.naive_bayes import MultinomialNB\n",
    "classifier = MultinomialNB().fit(bag_tfidf, target_train)"
   ]
  },
  {
   "cell_type": "code",
   "execution_count": 16,
   "metadata": {},
   "outputs": [
    {
     "data": {
      "text/plain": [
       "0.7988033822766263"
      ]
     },
     "execution_count": 16,
     "metadata": {},
     "output_type": "execute_result"
    }
   ],
   "source": [
    "predicted = classifier.predict(bag_test)\n",
    "np.mean(predicted == target_test)"
   ]
  },
  {
   "cell_type": "code",
   "execution_count": null,
   "metadata": {},
   "outputs": [],
   "source": []
  }
 ],
 "metadata": {
  "kernelspec": {
   "display_name": "Python 3",
   "language": "python",
   "name": "python3"
  },
  "language_info": {
   "codemirror_mode": {
    "name": "ipython",
    "version": 3
   },
   "file_extension": ".py",
   "mimetype": "text/x-python",
   "name": "python",
   "nbconvert_exporter": "python",
   "pygments_lexer": "ipython3",
   "version": "3.7.6"
  }
 },
 "nbformat": 4,
 "nbformat_minor": 4
}
